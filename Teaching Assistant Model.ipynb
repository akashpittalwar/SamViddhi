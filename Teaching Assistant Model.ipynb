{
 "cells": [
  {
   "cell_type": "markdown",
   "id": "a95a1dca",
   "metadata": {},
   "source": [
    "## Problem I. Data Analytics\n",
    "The task is to create a machine learning model that can evaluate the performance of\n",
    "TA(Teaching Assistant) based on the Teaching Assistant Evaluation Dataset (Check the\n",
    "attached “data.csv” file).\n",
    "The data consist of evaluations of teaching performance over three regular semesters and two\n",
    "summer semesters of 151 teaching assistant (TA) assignments at the Statistics Department of\n",
    "the University of Wisconsin-Madison. The scores were divided into 3 roughly equal-sized\n",
    "categories (\"low\", \"medium\", and \"high\"). For more details about the attributes check the\n",
    "“data.names” file.\n",
    "The first 5 columns are the features and the last column is the score. The model should be able\n",
    "to classify the score(High, medium, or low) of TA based on the value of the first 5 columns.\n",
    "\n",
    "Instructions:-\n",
    "To create an ML model for evaluating teaching assistant performance, follow these steps:\n",
    "1. Perform exploratory data analysis (EDA) using tools like pandas, numpy, and matplotlib.\n",
    "2. Preprocess the data by cleaning, handling missing values, and transforming it into a suitable format for machine learning algorithms. Feature engineering can also be performed.\n",
    "3. Split the preprocessed data into training and testing sets.\n",
    "4. Select an appropriate multiclass classification algorithm such as logistic regression, SVM, or random forests. Train the algorithm on the training set and optimize hyperparameters using cross-validation.\n",
    "5. Evaluate the trained model on the testing set using metrics such as accuracy, precision, recall, and F1-score.\n",
    "6. Finally, the model should be saved in the local drive for future evaluation."
   ]
  },
  {
   "cell_type": "markdown",
   "id": "7d70d4ba",
   "metadata": {},
   "source": [
    "### Attribute Information:\n",
    "  \n",
    "   1. Whether or not the TA is a native English speaker (binary)\n",
    "      1=English speaker, 2=non-English speaker\n",
    "   2. Course instructor (categorical, 25 categories)\n",
    "   3. Course (categorical, 26 categories)\n",
    "   4. Summer or regular semester (binary) 1=Summer, 2=Regular\n",
    "   5. Class size (numerical)\n",
    "   6. Class attribute (categorical) 1=Low, 2=Medium, 3=High"
   ]
  },
  {
   "cell_type": "markdown",
   "id": "b02b2433",
   "metadata": {},
   "source": [
    "#### Lets Import some Python Libraries"
   ]
  },
  {
   "cell_type": "code",
   "execution_count": 1,
   "id": "110e6dea",
   "metadata": {},
   "outputs": [],
   "source": [
    "import pandas as pd\n",
    "import numpy as np\n",
    "import matplotlib.pyplot as plt\n",
    "import seaborn as sns"
   ]
  },
  {
   "cell_type": "markdown",
   "id": "3a56280b",
   "metadata": {},
   "source": [
    "#### Import Data"
   ]
  },
  {
   "cell_type": "code",
   "execution_count": 2,
   "id": "c103bac7",
   "metadata": {},
   "outputs": [
    {
     "data": {
      "text/html": [
       "<div>\n",
       "<style scoped>\n",
       "    .dataframe tbody tr th:only-of-type {\n",
       "        vertical-align: middle;\n",
       "    }\n",
       "\n",
       "    .dataframe tbody tr th {\n",
       "        vertical-align: top;\n",
       "    }\n",
       "\n",
       "    .dataframe thead th {\n",
       "        text-align: right;\n",
       "    }\n",
       "</style>\n",
       "<table border=\"1\" class=\"dataframe\">\n",
       "  <thead>\n",
       "    <tr style=\"text-align: right;\">\n",
       "      <th></th>\n",
       "      <th>0</th>\n",
       "      <th>1</th>\n",
       "      <th>2</th>\n",
       "      <th>3</th>\n",
       "      <th>4</th>\n",
       "      <th>5</th>\n",
       "    </tr>\n",
       "  </thead>\n",
       "  <tbody>\n",
       "    <tr>\n",
       "      <th>0</th>\n",
       "      <td>1</td>\n",
       "      <td>23</td>\n",
       "      <td>3</td>\n",
       "      <td>1</td>\n",
       "      <td>19</td>\n",
       "      <td>3</td>\n",
       "    </tr>\n",
       "    <tr>\n",
       "      <th>1</th>\n",
       "      <td>2</td>\n",
       "      <td>15</td>\n",
       "      <td>3</td>\n",
       "      <td>1</td>\n",
       "      <td>17</td>\n",
       "      <td>3</td>\n",
       "    </tr>\n",
       "    <tr>\n",
       "      <th>2</th>\n",
       "      <td>1</td>\n",
       "      <td>23</td>\n",
       "      <td>3</td>\n",
       "      <td>2</td>\n",
       "      <td>49</td>\n",
       "      <td>3</td>\n",
       "    </tr>\n",
       "    <tr>\n",
       "      <th>3</th>\n",
       "      <td>1</td>\n",
       "      <td>5</td>\n",
       "      <td>2</td>\n",
       "      <td>2</td>\n",
       "      <td>33</td>\n",
       "      <td>3</td>\n",
       "    </tr>\n",
       "    <tr>\n",
       "      <th>4</th>\n",
       "      <td>2</td>\n",
       "      <td>7</td>\n",
       "      <td>11</td>\n",
       "      <td>2</td>\n",
       "      <td>55</td>\n",
       "      <td>3</td>\n",
       "    </tr>\n",
       "    <tr>\n",
       "      <th>...</th>\n",
       "      <td>...</td>\n",
       "      <td>...</td>\n",
       "      <td>...</td>\n",
       "      <td>...</td>\n",
       "      <td>...</td>\n",
       "      <td>...</td>\n",
       "    </tr>\n",
       "    <tr>\n",
       "      <th>146</th>\n",
       "      <td>2</td>\n",
       "      <td>3</td>\n",
       "      <td>2</td>\n",
       "      <td>2</td>\n",
       "      <td>26</td>\n",
       "      <td>1</td>\n",
       "    </tr>\n",
       "    <tr>\n",
       "      <th>147</th>\n",
       "      <td>2</td>\n",
       "      <td>10</td>\n",
       "      <td>3</td>\n",
       "      <td>2</td>\n",
       "      <td>12</td>\n",
       "      <td>1</td>\n",
       "    </tr>\n",
       "    <tr>\n",
       "      <th>148</th>\n",
       "      <td>1</td>\n",
       "      <td>18</td>\n",
       "      <td>7</td>\n",
       "      <td>2</td>\n",
       "      <td>48</td>\n",
       "      <td>1</td>\n",
       "    </tr>\n",
       "    <tr>\n",
       "      <th>149</th>\n",
       "      <td>2</td>\n",
       "      <td>22</td>\n",
       "      <td>1</td>\n",
       "      <td>2</td>\n",
       "      <td>51</td>\n",
       "      <td>1</td>\n",
       "    </tr>\n",
       "    <tr>\n",
       "      <th>150</th>\n",
       "      <td>2</td>\n",
       "      <td>2</td>\n",
       "      <td>10</td>\n",
       "      <td>2</td>\n",
       "      <td>27</td>\n",
       "      <td>1</td>\n",
       "    </tr>\n",
       "  </tbody>\n",
       "</table>\n",
       "<p>151 rows × 6 columns</p>\n",
       "</div>"
      ],
      "text/plain": [
       "     0   1   2  3   4  5\n",
       "0    1  23   3  1  19  3\n",
       "1    2  15   3  1  17  3\n",
       "2    1  23   3  2  49  3\n",
       "3    1   5   2  2  33  3\n",
       "4    2   7  11  2  55  3\n",
       "..  ..  ..  .. ..  .. ..\n",
       "146  2   3   2  2  26  1\n",
       "147  2  10   3  2  12  1\n",
       "148  1  18   7  2  48  1\n",
       "149  2  22   1  2  51  1\n",
       "150  2   2  10  2  27  1\n",
       "\n",
       "[151 rows x 6 columns]"
      ]
     },
     "execution_count": 2,
     "metadata": {},
     "output_type": "execute_result"
    }
   ],
   "source": [
    "data = pd.read_csv(\"C:/Users/AKASH/Desktop/Fireblaze .AI/JOBS/PythonDeveloper_Hands_On_Assessment/data.csv\", header=None)\n",
    "data"
   ]
  },
  {
   "cell_type": "markdown",
   "id": "8bf368e4",
   "metadata": {},
   "source": [
    "#### Display top 5 rows"
   ]
  },
  {
   "cell_type": "code",
   "execution_count": 3,
   "id": "803870cb",
   "metadata": {},
   "outputs": [
    {
     "data": {
      "text/html": [
       "<div>\n",
       "<style scoped>\n",
       "    .dataframe tbody tr th:only-of-type {\n",
       "        vertical-align: middle;\n",
       "    }\n",
       "\n",
       "    .dataframe tbody tr th {\n",
       "        vertical-align: top;\n",
       "    }\n",
       "\n",
       "    .dataframe thead th {\n",
       "        text-align: right;\n",
       "    }\n",
       "</style>\n",
       "<table border=\"1\" class=\"dataframe\">\n",
       "  <thead>\n",
       "    <tr style=\"text-align: right;\">\n",
       "      <th></th>\n",
       "      <th>0</th>\n",
       "      <th>1</th>\n",
       "      <th>2</th>\n",
       "      <th>3</th>\n",
       "      <th>4</th>\n",
       "      <th>5</th>\n",
       "    </tr>\n",
       "  </thead>\n",
       "  <tbody>\n",
       "    <tr>\n",
       "      <th>0</th>\n",
       "      <td>1</td>\n",
       "      <td>23</td>\n",
       "      <td>3</td>\n",
       "      <td>1</td>\n",
       "      <td>19</td>\n",
       "      <td>3</td>\n",
       "    </tr>\n",
       "    <tr>\n",
       "      <th>1</th>\n",
       "      <td>2</td>\n",
       "      <td>15</td>\n",
       "      <td>3</td>\n",
       "      <td>1</td>\n",
       "      <td>17</td>\n",
       "      <td>3</td>\n",
       "    </tr>\n",
       "    <tr>\n",
       "      <th>2</th>\n",
       "      <td>1</td>\n",
       "      <td>23</td>\n",
       "      <td>3</td>\n",
       "      <td>2</td>\n",
       "      <td>49</td>\n",
       "      <td>3</td>\n",
       "    </tr>\n",
       "    <tr>\n",
       "      <th>3</th>\n",
       "      <td>1</td>\n",
       "      <td>5</td>\n",
       "      <td>2</td>\n",
       "      <td>2</td>\n",
       "      <td>33</td>\n",
       "      <td>3</td>\n",
       "    </tr>\n",
       "    <tr>\n",
       "      <th>4</th>\n",
       "      <td>2</td>\n",
       "      <td>7</td>\n",
       "      <td>11</td>\n",
       "      <td>2</td>\n",
       "      <td>55</td>\n",
       "      <td>3</td>\n",
       "    </tr>\n",
       "  </tbody>\n",
       "</table>\n",
       "</div>"
      ],
      "text/plain": [
       "   0   1   2  3   4  5\n",
       "0  1  23   3  1  19  3\n",
       "1  2  15   3  1  17  3\n",
       "2  1  23   3  2  49  3\n",
       "3  1   5   2  2  33  3\n",
       "4  2   7  11  2  55  3"
      ]
     },
     "execution_count": 3,
     "metadata": {},
     "output_type": "execute_result"
    }
   ],
   "source": [
    "data.head()"
   ]
  },
  {
   "cell_type": "markdown",
   "id": "2ea8e990",
   "metadata": {},
   "source": [
    "#### Display some samples"
   ]
  },
  {
   "cell_type": "code",
   "execution_count": 4,
   "id": "4eed17a1",
   "metadata": {},
   "outputs": [
    {
     "data": {
      "text/html": [
       "<div>\n",
       "<style scoped>\n",
       "    .dataframe tbody tr th:only-of-type {\n",
       "        vertical-align: middle;\n",
       "    }\n",
       "\n",
       "    .dataframe tbody tr th {\n",
       "        vertical-align: top;\n",
       "    }\n",
       "\n",
       "    .dataframe thead th {\n",
       "        text-align: right;\n",
       "    }\n",
       "</style>\n",
       "<table border=\"1\" class=\"dataframe\">\n",
       "  <thead>\n",
       "    <tr style=\"text-align: right;\">\n",
       "      <th></th>\n",
       "      <th>0</th>\n",
       "      <th>1</th>\n",
       "      <th>2</th>\n",
       "      <th>3</th>\n",
       "      <th>4</th>\n",
       "      <th>5</th>\n",
       "    </tr>\n",
       "  </thead>\n",
       "  <tbody>\n",
       "    <tr>\n",
       "      <th>86</th>\n",
       "      <td>2</td>\n",
       "      <td>23</td>\n",
       "      <td>3</td>\n",
       "      <td>1</td>\n",
       "      <td>20</td>\n",
       "      <td>3</td>\n",
       "    </tr>\n",
       "    <tr>\n",
       "      <th>59</th>\n",
       "      <td>2</td>\n",
       "      <td>25</td>\n",
       "      <td>7</td>\n",
       "      <td>2</td>\n",
       "      <td>27</td>\n",
       "      <td>2</td>\n",
       "    </tr>\n",
       "    <tr>\n",
       "      <th>113</th>\n",
       "      <td>2</td>\n",
       "      <td>8</td>\n",
       "      <td>3</td>\n",
       "      <td>2</td>\n",
       "      <td>27</td>\n",
       "      <td>1</td>\n",
       "    </tr>\n",
       "    <tr>\n",
       "      <th>79</th>\n",
       "      <td>1</td>\n",
       "      <td>13</td>\n",
       "      <td>3</td>\n",
       "      <td>1</td>\n",
       "      <td>17</td>\n",
       "      <td>3</td>\n",
       "    </tr>\n",
       "    <tr>\n",
       "      <th>147</th>\n",
       "      <td>2</td>\n",
       "      <td>10</td>\n",
       "      <td>3</td>\n",
       "      <td>2</td>\n",
       "      <td>12</td>\n",
       "      <td>1</td>\n",
       "    </tr>\n",
       "  </tbody>\n",
       "</table>\n",
       "</div>"
      ],
      "text/plain": [
       "     0   1  2  3   4  5\n",
       "86   2  23  3  1  20  3\n",
       "59   2  25  7  2  27  2\n",
       "113  2   8  3  2  27  1\n",
       "79   1  13  3  1  17  3\n",
       "147  2  10  3  2  12  1"
      ]
     },
     "execution_count": 4,
     "metadata": {},
     "output_type": "execute_result"
    }
   ],
   "source": [
    "data.sample(5)"
   ]
  },
  {
   "cell_type": "markdown",
   "id": "be3d1222",
   "metadata": {},
   "source": [
    "#### Lets give data some meaningful column name"
   ]
  },
  {
   "cell_type": "code",
   "execution_count": 5,
   "id": "0e965793",
   "metadata": {
    "scrolled": true
   },
   "outputs": [
    {
     "data": {
      "text/html": [
       "<div>\n",
       "<style scoped>\n",
       "    .dataframe tbody tr th:only-of-type {\n",
       "        vertical-align: middle;\n",
       "    }\n",
       "\n",
       "    .dataframe tbody tr th {\n",
       "        vertical-align: top;\n",
       "    }\n",
       "\n",
       "    .dataframe thead th {\n",
       "        text-align: right;\n",
       "    }\n",
       "</style>\n",
       "<table border=\"1\" class=\"dataframe\">\n",
       "  <thead>\n",
       "    <tr style=\"text-align: right;\">\n",
       "      <th></th>\n",
       "      <th>Teaching Assistant</th>\n",
       "      <th>Course Instructor</th>\n",
       "      <th>Course</th>\n",
       "      <th>Summer/Regular Semester</th>\n",
       "      <th>Class Size</th>\n",
       "      <th>Score</th>\n",
       "    </tr>\n",
       "  </thead>\n",
       "  <tbody>\n",
       "    <tr>\n",
       "      <th>0</th>\n",
       "      <td>1</td>\n",
       "      <td>23</td>\n",
       "      <td>3</td>\n",
       "      <td>1</td>\n",
       "      <td>19</td>\n",
       "      <td>3</td>\n",
       "    </tr>\n",
       "    <tr>\n",
       "      <th>1</th>\n",
       "      <td>2</td>\n",
       "      <td>15</td>\n",
       "      <td>3</td>\n",
       "      <td>1</td>\n",
       "      <td>17</td>\n",
       "      <td>3</td>\n",
       "    </tr>\n",
       "    <tr>\n",
       "      <th>2</th>\n",
       "      <td>1</td>\n",
       "      <td>23</td>\n",
       "      <td>3</td>\n",
       "      <td>2</td>\n",
       "      <td>49</td>\n",
       "      <td>3</td>\n",
       "    </tr>\n",
       "    <tr>\n",
       "      <th>3</th>\n",
       "      <td>1</td>\n",
       "      <td>5</td>\n",
       "      <td>2</td>\n",
       "      <td>2</td>\n",
       "      <td>33</td>\n",
       "      <td>3</td>\n",
       "    </tr>\n",
       "    <tr>\n",
       "      <th>4</th>\n",
       "      <td>2</td>\n",
       "      <td>7</td>\n",
       "      <td>11</td>\n",
       "      <td>2</td>\n",
       "      <td>55</td>\n",
       "      <td>3</td>\n",
       "    </tr>\n",
       "    <tr>\n",
       "      <th>...</th>\n",
       "      <td>...</td>\n",
       "      <td>...</td>\n",
       "      <td>...</td>\n",
       "      <td>...</td>\n",
       "      <td>...</td>\n",
       "      <td>...</td>\n",
       "    </tr>\n",
       "    <tr>\n",
       "      <th>146</th>\n",
       "      <td>2</td>\n",
       "      <td>3</td>\n",
       "      <td>2</td>\n",
       "      <td>2</td>\n",
       "      <td>26</td>\n",
       "      <td>1</td>\n",
       "    </tr>\n",
       "    <tr>\n",
       "      <th>147</th>\n",
       "      <td>2</td>\n",
       "      <td>10</td>\n",
       "      <td>3</td>\n",
       "      <td>2</td>\n",
       "      <td>12</td>\n",
       "      <td>1</td>\n",
       "    </tr>\n",
       "    <tr>\n",
       "      <th>148</th>\n",
       "      <td>1</td>\n",
       "      <td>18</td>\n",
       "      <td>7</td>\n",
       "      <td>2</td>\n",
       "      <td>48</td>\n",
       "      <td>1</td>\n",
       "    </tr>\n",
       "    <tr>\n",
       "      <th>149</th>\n",
       "      <td>2</td>\n",
       "      <td>22</td>\n",
       "      <td>1</td>\n",
       "      <td>2</td>\n",
       "      <td>51</td>\n",
       "      <td>1</td>\n",
       "    </tr>\n",
       "    <tr>\n",
       "      <th>150</th>\n",
       "      <td>2</td>\n",
       "      <td>2</td>\n",
       "      <td>10</td>\n",
       "      <td>2</td>\n",
       "      <td>27</td>\n",
       "      <td>1</td>\n",
       "    </tr>\n",
       "  </tbody>\n",
       "</table>\n",
       "<p>151 rows × 6 columns</p>\n",
       "</div>"
      ],
      "text/plain": [
       "     Teaching Assistant  Course Instructor  Course  Summer/Regular Semester  \\\n",
       "0                     1                 23       3                        1   \n",
       "1                     2                 15       3                        1   \n",
       "2                     1                 23       3                        2   \n",
       "3                     1                  5       2                        2   \n",
       "4                     2                  7      11                        2   \n",
       "..                  ...                ...     ...                      ...   \n",
       "146                   2                  3       2                        2   \n",
       "147                   2                 10       3                        2   \n",
       "148                   1                 18       7                        2   \n",
       "149                   2                 22       1                        2   \n",
       "150                   2                  2      10                        2   \n",
       "\n",
       "     Class Size  Score  \n",
       "0            19      3  \n",
       "1            17      3  \n",
       "2            49      3  \n",
       "3            33      3  \n",
       "4            55      3  \n",
       "..          ...    ...  \n",
       "146          26      1  \n",
       "147          12      1  \n",
       "148          48      1  \n",
       "149          51      1  \n",
       "150          27      1  \n",
       "\n",
       "[151 rows x 6 columns]"
      ]
     },
     "execution_count": 5,
     "metadata": {},
     "output_type": "execute_result"
    }
   ],
   "source": [
    "data.columns = [\"Teaching Assistant\", \"Course Instructor\", \"Course\", \"Summer/Regular Semester\", \"Class Size\", \"Score\"]\n",
    "data"
   ]
  },
  {
   "cell_type": "markdown",
   "id": "d2960b74",
   "metadata": {},
   "source": [
    "#### Lets check the information about the data\n",
    "summary of its structure, including the number of rows and columns, column names, data types, and memory usage"
   ]
  },
  {
   "cell_type": "code",
   "execution_count": 6,
   "id": "901ee137",
   "metadata": {},
   "outputs": [
    {
     "name": "stdout",
     "output_type": "stream",
     "text": [
      "<class 'pandas.core.frame.DataFrame'>\n",
      "RangeIndex: 151 entries, 0 to 150\n",
      "Data columns (total 6 columns):\n",
      " #   Column                   Non-Null Count  Dtype\n",
      "---  ------                   --------------  -----\n",
      " 0   Teaching Assistant       151 non-null    int64\n",
      " 1   Course Instructor        151 non-null    int64\n",
      " 2   Course                   151 non-null    int64\n",
      " 3   Summer/Regular Semester  151 non-null    int64\n",
      " 4   Class Size               151 non-null    int64\n",
      " 5   Score                    151 non-null    int64\n",
      "dtypes: int64(6)\n",
      "memory usage: 7.2 KB\n"
     ]
    }
   ],
   "source": [
    "data.info()"
   ]
  },
  {
   "cell_type": "markdown",
   "id": "291fb8ed",
   "metadata": {},
   "source": [
    "#### Lets see Statistical Summary of the data\n",
    "provides various summary statistics for each column, such as count, mean, standard deviation, minimum, maximum, and quartiles."
   ]
  },
  {
   "cell_type": "code",
   "execution_count": 7,
   "id": "5549bf85",
   "metadata": {},
   "outputs": [
    {
     "data": {
      "text/html": [
       "<div>\n",
       "<style scoped>\n",
       "    .dataframe tbody tr th:only-of-type {\n",
       "        vertical-align: middle;\n",
       "    }\n",
       "\n",
       "    .dataframe tbody tr th {\n",
       "        vertical-align: top;\n",
       "    }\n",
       "\n",
       "    .dataframe thead th {\n",
       "        text-align: right;\n",
       "    }\n",
       "</style>\n",
       "<table border=\"1\" class=\"dataframe\">\n",
       "  <thead>\n",
       "    <tr style=\"text-align: right;\">\n",
       "      <th></th>\n",
       "      <th>Teaching Assistant</th>\n",
       "      <th>Course Instructor</th>\n",
       "      <th>Course</th>\n",
       "      <th>Summer/Regular Semester</th>\n",
       "      <th>Class Size</th>\n",
       "      <th>Score</th>\n",
       "    </tr>\n",
       "  </thead>\n",
       "  <tbody>\n",
       "    <tr>\n",
       "      <th>count</th>\n",
       "      <td>151.000000</td>\n",
       "      <td>151.000000</td>\n",
       "      <td>151.000000</td>\n",
       "      <td>151.000000</td>\n",
       "      <td>151.000000</td>\n",
       "      <td>151.000000</td>\n",
       "    </tr>\n",
       "    <tr>\n",
       "      <th>mean</th>\n",
       "      <td>1.807947</td>\n",
       "      <td>13.642384</td>\n",
       "      <td>8.105960</td>\n",
       "      <td>1.847682</td>\n",
       "      <td>27.867550</td>\n",
       "      <td>2.019868</td>\n",
       "    </tr>\n",
       "    <tr>\n",
       "      <th>std</th>\n",
       "      <td>0.395225</td>\n",
       "      <td>6.825779</td>\n",
       "      <td>7.023914</td>\n",
       "      <td>0.360525</td>\n",
       "      <td>12.893758</td>\n",
       "      <td>0.820327</td>\n",
       "    </tr>\n",
       "    <tr>\n",
       "      <th>min</th>\n",
       "      <td>1.000000</td>\n",
       "      <td>1.000000</td>\n",
       "      <td>1.000000</td>\n",
       "      <td>1.000000</td>\n",
       "      <td>3.000000</td>\n",
       "      <td>1.000000</td>\n",
       "    </tr>\n",
       "    <tr>\n",
       "      <th>25%</th>\n",
       "      <td>2.000000</td>\n",
       "      <td>8.000000</td>\n",
       "      <td>3.000000</td>\n",
       "      <td>2.000000</td>\n",
       "      <td>19.000000</td>\n",
       "      <td>1.000000</td>\n",
       "    </tr>\n",
       "    <tr>\n",
       "      <th>50%</th>\n",
       "      <td>2.000000</td>\n",
       "      <td>13.000000</td>\n",
       "      <td>4.000000</td>\n",
       "      <td>2.000000</td>\n",
       "      <td>27.000000</td>\n",
       "      <td>2.000000</td>\n",
       "    </tr>\n",
       "    <tr>\n",
       "      <th>75%</th>\n",
       "      <td>2.000000</td>\n",
       "      <td>20.000000</td>\n",
       "      <td>15.000000</td>\n",
       "      <td>2.000000</td>\n",
       "      <td>37.000000</td>\n",
       "      <td>3.000000</td>\n",
       "    </tr>\n",
       "    <tr>\n",
       "      <th>max</th>\n",
       "      <td>2.000000</td>\n",
       "      <td>25.000000</td>\n",
       "      <td>26.000000</td>\n",
       "      <td>2.000000</td>\n",
       "      <td>66.000000</td>\n",
       "      <td>3.000000</td>\n",
       "    </tr>\n",
       "  </tbody>\n",
       "</table>\n",
       "</div>"
      ],
      "text/plain": [
       "       Teaching Assistant  Course Instructor      Course  \\\n",
       "count          151.000000         151.000000  151.000000   \n",
       "mean             1.807947          13.642384    8.105960   \n",
       "std              0.395225           6.825779    7.023914   \n",
       "min              1.000000           1.000000    1.000000   \n",
       "25%              2.000000           8.000000    3.000000   \n",
       "50%              2.000000          13.000000    4.000000   \n",
       "75%              2.000000          20.000000   15.000000   \n",
       "max              2.000000          25.000000   26.000000   \n",
       "\n",
       "       Summer/Regular Semester  Class Size       Score  \n",
       "count               151.000000  151.000000  151.000000  \n",
       "mean                  1.847682   27.867550    2.019868  \n",
       "std                   0.360525   12.893758    0.820327  \n",
       "min                   1.000000    3.000000    1.000000  \n",
       "25%                   2.000000   19.000000    1.000000  \n",
       "50%                   2.000000   27.000000    2.000000  \n",
       "75%                   2.000000   37.000000    3.000000  \n",
       "max                   2.000000   66.000000    3.000000  "
      ]
     },
     "execution_count": 7,
     "metadata": {},
     "output_type": "execute_result"
    }
   ],
   "source": [
    "data.describe()"
   ]
  },
  {
   "cell_type": "markdown",
   "id": "50005365",
   "metadata": {},
   "source": [
    "#### Check wheather we have any zero values in our data "
   ]
  },
  {
   "cell_type": "code",
   "execution_count": 8,
   "id": "2e2e2d07",
   "metadata": {},
   "outputs": [
    {
     "data": {
      "text/html": [
       "<div>\n",
       "<style scoped>\n",
       "    .dataframe tbody tr th:only-of-type {\n",
       "        vertical-align: middle;\n",
       "    }\n",
       "\n",
       "    .dataframe tbody tr th {\n",
       "        vertical-align: top;\n",
       "    }\n",
       "\n",
       "    .dataframe thead th {\n",
       "        text-align: right;\n",
       "    }\n",
       "</style>\n",
       "<table border=\"1\" class=\"dataframe\">\n",
       "  <thead>\n",
       "    <tr style=\"text-align: right;\">\n",
       "      <th></th>\n",
       "      <th>Teaching Assistant</th>\n",
       "      <th>Course Instructor</th>\n",
       "      <th>Course</th>\n",
       "      <th>Summer/Regular Semester</th>\n",
       "      <th>Class Size</th>\n",
       "      <th>Score</th>\n",
       "    </tr>\n",
       "  </thead>\n",
       "  <tbody>\n",
       "  </tbody>\n",
       "</table>\n",
       "</div>"
      ],
      "text/plain": [
       "Empty DataFrame\n",
       "Columns: [Teaching Assistant, Course Instructor, Course, Summer/Regular Semester, Class Size, Score]\n",
       "Index: []"
      ]
     },
     "execution_count": 8,
     "metadata": {},
     "output_type": "execute_result"
    }
   ],
   "source": [
    "data[data['Teaching Assistant']==0]"
   ]
  },
  {
   "cell_type": "code",
   "execution_count": 9,
   "id": "5cfeab1d",
   "metadata": {},
   "outputs": [
    {
     "data": {
      "text/html": [
       "<div>\n",
       "<style scoped>\n",
       "    .dataframe tbody tr th:only-of-type {\n",
       "        vertical-align: middle;\n",
       "    }\n",
       "\n",
       "    .dataframe tbody tr th {\n",
       "        vertical-align: top;\n",
       "    }\n",
       "\n",
       "    .dataframe thead th {\n",
       "        text-align: right;\n",
       "    }\n",
       "</style>\n",
       "<table border=\"1\" class=\"dataframe\">\n",
       "  <thead>\n",
       "    <tr style=\"text-align: right;\">\n",
       "      <th></th>\n",
       "      <th>Teaching Assistant</th>\n",
       "      <th>Course Instructor</th>\n",
       "      <th>Course</th>\n",
       "      <th>Summer/Regular Semester</th>\n",
       "      <th>Class Size</th>\n",
       "      <th>Score</th>\n",
       "    </tr>\n",
       "  </thead>\n",
       "  <tbody>\n",
       "  </tbody>\n",
       "</table>\n",
       "</div>"
      ],
      "text/plain": [
       "Empty DataFrame\n",
       "Columns: [Teaching Assistant, Course Instructor, Course, Summer/Regular Semester, Class Size, Score]\n",
       "Index: []"
      ]
     },
     "execution_count": 9,
     "metadata": {},
     "output_type": "execute_result"
    }
   ],
   "source": [
    "data[data['Course Instructor']==0]"
   ]
  },
  {
   "cell_type": "code",
   "execution_count": 10,
   "id": "1126519b",
   "metadata": {},
   "outputs": [
    {
     "data": {
      "text/html": [
       "<div>\n",
       "<style scoped>\n",
       "    .dataframe tbody tr th:only-of-type {\n",
       "        vertical-align: middle;\n",
       "    }\n",
       "\n",
       "    .dataframe tbody tr th {\n",
       "        vertical-align: top;\n",
       "    }\n",
       "\n",
       "    .dataframe thead th {\n",
       "        text-align: right;\n",
       "    }\n",
       "</style>\n",
       "<table border=\"1\" class=\"dataframe\">\n",
       "  <thead>\n",
       "    <tr style=\"text-align: right;\">\n",
       "      <th></th>\n",
       "      <th>Teaching Assistant</th>\n",
       "      <th>Course Instructor</th>\n",
       "      <th>Course</th>\n",
       "      <th>Summer/Regular Semester</th>\n",
       "      <th>Class Size</th>\n",
       "      <th>Score</th>\n",
       "    </tr>\n",
       "  </thead>\n",
       "  <tbody>\n",
       "  </tbody>\n",
       "</table>\n",
       "</div>"
      ],
      "text/plain": [
       "Empty DataFrame\n",
       "Columns: [Teaching Assistant, Course Instructor, Course, Summer/Regular Semester, Class Size, Score]\n",
       "Index: []"
      ]
     },
     "execution_count": 10,
     "metadata": {},
     "output_type": "execute_result"
    }
   ],
   "source": [
    "data[data['Course']==0]"
   ]
  },
  {
   "cell_type": "code",
   "execution_count": 11,
   "id": "ba96c4cc",
   "metadata": {},
   "outputs": [
    {
     "data": {
      "text/html": [
       "<div>\n",
       "<style scoped>\n",
       "    .dataframe tbody tr th:only-of-type {\n",
       "        vertical-align: middle;\n",
       "    }\n",
       "\n",
       "    .dataframe tbody tr th {\n",
       "        vertical-align: top;\n",
       "    }\n",
       "\n",
       "    .dataframe thead th {\n",
       "        text-align: right;\n",
       "    }\n",
       "</style>\n",
       "<table border=\"1\" class=\"dataframe\">\n",
       "  <thead>\n",
       "    <tr style=\"text-align: right;\">\n",
       "      <th></th>\n",
       "      <th>Teaching Assistant</th>\n",
       "      <th>Course Instructor</th>\n",
       "      <th>Course</th>\n",
       "      <th>Summer/Regular Semester</th>\n",
       "      <th>Class Size</th>\n",
       "      <th>Score</th>\n",
       "    </tr>\n",
       "  </thead>\n",
       "  <tbody>\n",
       "  </tbody>\n",
       "</table>\n",
       "</div>"
      ],
      "text/plain": [
       "Empty DataFrame\n",
       "Columns: [Teaching Assistant, Course Instructor, Course, Summer/Regular Semester, Class Size, Score]\n",
       "Index: []"
      ]
     },
     "execution_count": 11,
     "metadata": {},
     "output_type": "execute_result"
    }
   ],
   "source": [
    "data[data['Summer/Regular Semester']==0]"
   ]
  },
  {
   "cell_type": "code",
   "execution_count": 12,
   "id": "d46b474b",
   "metadata": {},
   "outputs": [
    {
     "data": {
      "text/html": [
       "<div>\n",
       "<style scoped>\n",
       "    .dataframe tbody tr th:only-of-type {\n",
       "        vertical-align: middle;\n",
       "    }\n",
       "\n",
       "    .dataframe tbody tr th {\n",
       "        vertical-align: top;\n",
       "    }\n",
       "\n",
       "    .dataframe thead th {\n",
       "        text-align: right;\n",
       "    }\n",
       "</style>\n",
       "<table border=\"1\" class=\"dataframe\">\n",
       "  <thead>\n",
       "    <tr style=\"text-align: right;\">\n",
       "      <th></th>\n",
       "      <th>Teaching Assistant</th>\n",
       "      <th>Course Instructor</th>\n",
       "      <th>Course</th>\n",
       "      <th>Summer/Regular Semester</th>\n",
       "      <th>Class Size</th>\n",
       "      <th>Score</th>\n",
       "    </tr>\n",
       "  </thead>\n",
       "  <tbody>\n",
       "  </tbody>\n",
       "</table>\n",
       "</div>"
      ],
      "text/plain": [
       "Empty DataFrame\n",
       "Columns: [Teaching Assistant, Course Instructor, Course, Summer/Regular Semester, Class Size, Score]\n",
       "Index: []"
      ]
     },
     "execution_count": 12,
     "metadata": {},
     "output_type": "execute_result"
    }
   ],
   "source": [
    "data[data['Class Size']==0]"
   ]
  },
  {
   "cell_type": "markdown",
   "id": "f48ee2c2",
   "metadata": {},
   "source": [
    "#### Lets cross check the data with below provided details\n",
    "   1. Whether or not the TA is a native English speaker (binary)\n",
    "      1=English speaker, 2=non-English speaker\n",
    "   2. Course instructor (categorical, 25 categories)\n",
    "   3. Course (categorical, 26 categories)\n",
    "   4. Summer or regular semester (binary) 1=Summer, 2=Regular\n",
    "   5. Class size (numerical)\n",
    "   6. Class attribute (categorical) 1=Low, 2=Medium, 3=High\n"
   ]
  },
  {
   "cell_type": "code",
   "execution_count": 13,
   "id": "431d3878",
   "metadata": {},
   "outputs": [
    {
     "data": {
      "text/plain": [
       "2    122\n",
       "1     29\n",
       "Name: Teaching Assistant, dtype: int64"
      ]
     },
     "execution_count": 13,
     "metadata": {},
     "output_type": "execute_result"
    }
   ],
   "source": [
    "data['Teaching Assistant'].value_counts()"
   ]
  },
  {
   "cell_type": "code",
   "execution_count": 14,
   "id": "7473ba80",
   "metadata": {},
   "outputs": [
    {
     "data": {
      "text/plain": [
       "25"
      ]
     },
     "execution_count": 14,
     "metadata": {},
     "output_type": "execute_result"
    }
   ],
   "source": [
    "data['Course Instructor'].value_counts() #this will show count for all individual values\n",
    "len(data['Course Instructor'].unique())"
   ]
  },
  {
   "cell_type": "code",
   "execution_count": 15,
   "id": "a7bbac0d",
   "metadata": {},
   "outputs": [
    {
     "data": {
      "text/plain": [
       "26"
      ]
     },
     "execution_count": 15,
     "metadata": {},
     "output_type": "execute_result"
    }
   ],
   "source": [
    "data['Course'].value_counts()\n",
    "len(data['Course'].unique())"
   ]
  },
  {
   "cell_type": "code",
   "execution_count": 16,
   "id": "0ea6cfd8",
   "metadata": {},
   "outputs": [
    {
     "data": {
      "text/plain": [
       "2"
      ]
     },
     "execution_count": 16,
     "metadata": {},
     "output_type": "execute_result"
    }
   ],
   "source": [
    "data['Summer/Regular Semester'].value_counts()\n",
    "len(data['Summer/Regular Semester'].unique())"
   ]
  },
  {
   "cell_type": "code",
   "execution_count": 17,
   "id": "7d9f457c",
   "metadata": {},
   "outputs": [
    {
     "data": {
      "text/plain": [
       "3"
      ]
     },
     "execution_count": 17,
     "metadata": {},
     "output_type": "execute_result"
    }
   ],
   "source": [
    "data['Score'].value_counts()\n",
    "len(data['Score'].unique())"
   ]
  },
  {
   "cell_type": "markdown",
   "id": "f3c5f346",
   "metadata": {},
   "source": [
    "#### Now to perform proper Analysis we need to understand the correlation between the data"
   ]
  },
  {
   "cell_type": "code",
   "execution_count": 18,
   "id": "3669e08b",
   "metadata": {},
   "outputs": [
    {
     "data": {
      "text/html": [
       "<div>\n",
       "<style scoped>\n",
       "    .dataframe tbody tr th:only-of-type {\n",
       "        vertical-align: middle;\n",
       "    }\n",
       "\n",
       "    .dataframe tbody tr th {\n",
       "        vertical-align: top;\n",
       "    }\n",
       "\n",
       "    .dataframe thead th {\n",
       "        text-align: right;\n",
       "    }\n",
       "</style>\n",
       "<table border=\"1\" class=\"dataframe\">\n",
       "  <thead>\n",
       "    <tr style=\"text-align: right;\">\n",
       "      <th></th>\n",
       "      <th>Teaching Assistant</th>\n",
       "      <th>Course Instructor</th>\n",
       "      <th>Course</th>\n",
       "      <th>Summer/Regular Semester</th>\n",
       "      <th>Class Size</th>\n",
       "      <th>Score</th>\n",
       "    </tr>\n",
       "  </thead>\n",
       "  <tbody>\n",
       "    <tr>\n",
       "      <th>Teaching Assistant</th>\n",
       "      <td>1.000000</td>\n",
       "      <td>-0.250510</td>\n",
       "      <td>0.134660</td>\n",
       "      <td>0.214417</td>\n",
       "      <td>-0.151547</td>\n",
       "      <td>-0.255466</td>\n",
       "    </tr>\n",
       "    <tr>\n",
       "      <th>Course Instructor</th>\n",
       "      <td>-0.250510</td>\n",
       "      <td>1.000000</td>\n",
       "      <td>-0.236010</td>\n",
       "      <td>-0.168573</td>\n",
       "      <td>-0.035765</td>\n",
       "      <td>0.075095</td>\n",
       "    </tr>\n",
       "    <tr>\n",
       "      <th>Course</th>\n",
       "      <td>0.134660</td>\n",
       "      <td>-0.236010</td>\n",
       "      <td>1.000000</td>\n",
       "      <td>0.224927</td>\n",
       "      <td>-0.033485</td>\n",
       "      <td>0.143103</td>\n",
       "    </tr>\n",
       "    <tr>\n",
       "      <th>Summer/Regular Semester</th>\n",
       "      <td>0.214417</td>\n",
       "      <td>-0.168573</td>\n",
       "      <td>0.224927</td>\n",
       "      <td>1.000000</td>\n",
       "      <td>0.269554</td>\n",
       "      <td>-0.282742</td>\n",
       "    </tr>\n",
       "    <tr>\n",
       "      <th>Class Size</th>\n",
       "      <td>-0.151547</td>\n",
       "      <td>-0.035765</td>\n",
       "      <td>-0.033485</td>\n",
       "      <td>0.269554</td>\n",
       "      <td>1.000000</td>\n",
       "      <td>-0.035676</td>\n",
       "    </tr>\n",
       "    <tr>\n",
       "      <th>Score</th>\n",
       "      <td>-0.255466</td>\n",
       "      <td>0.075095</td>\n",
       "      <td>0.143103</td>\n",
       "      <td>-0.282742</td>\n",
       "      <td>-0.035676</td>\n",
       "      <td>1.000000</td>\n",
       "    </tr>\n",
       "  </tbody>\n",
       "</table>\n",
       "</div>"
      ],
      "text/plain": [
       "                         Teaching Assistant  Course Instructor    Course  \\\n",
       "Teaching Assistant                 1.000000          -0.250510  0.134660   \n",
       "Course Instructor                 -0.250510           1.000000 -0.236010   \n",
       "Course                             0.134660          -0.236010  1.000000   \n",
       "Summer/Regular Semester            0.214417          -0.168573  0.224927   \n",
       "Class Size                        -0.151547          -0.035765 -0.033485   \n",
       "Score                             -0.255466           0.075095  0.143103   \n",
       "\n",
       "                         Summer/Regular Semester  Class Size     Score  \n",
       "Teaching Assistant                      0.214417   -0.151547 -0.255466  \n",
       "Course Instructor                      -0.168573   -0.035765  0.075095  \n",
       "Course                                  0.224927   -0.033485  0.143103  \n",
       "Summer/Regular Semester                 1.000000    0.269554 -0.282742  \n",
       "Class Size                              0.269554    1.000000 -0.035676  \n",
       "Score                                  -0.282742   -0.035676  1.000000  "
      ]
     },
     "execution_count": 18,
     "metadata": {},
     "output_type": "execute_result"
    }
   ],
   "source": [
    "x=data.corr()\n",
    "x"
   ]
  },
  {
   "cell_type": "code",
   "execution_count": 19,
   "id": "b4197c77",
   "metadata": {},
   "outputs": [
    {
     "data": {
      "text/plain": [
       "<AxesSubplot:>"
      ]
     },
     "execution_count": 19,
     "metadata": {},
     "output_type": "execute_result"
    },
    {
     "data": {
      "image/png": "[encoded data removed]",
      "text/plain": [
       "<Figure size 432x288 with 2 Axes>"
      ]
     },
     "metadata": {
      "needs_background": "light"
     },
     "output_type": "display_data"
    }
   ],
   "source": [
    "sns.heatmap(data=x)"
   ]
  },
  {
   "cell_type": "code",
   "execution_count": 20,
   "id": "a3b3afec",
   "metadata": {},
   "outputs": [
    {
     "data": {
      "image/png": "[encoded data removed]",
      "text/plain": [
       "<Figure size 1080x1080 with 42 Axes>"
      ]
     },
     "metadata": {
      "needs_background": "light"
     },
     "output_type": "display_data"
    }
   ],
   "source": [
    "sns.pairplot(data)\n",
    "plt.show()"
   ]
  },
  {
   "cell_type": "markdown",
   "id": "36593ed8",
   "metadata": {},
   "source": [
    "#### Lets find out  'Non-English speaker' and 'English speaker' Teaching Assistant in data"
   ]
  },
  {
   "cell_type": "code",
   "execution_count": 21,
   "id": "4d23a025",
   "metadata": {},
   "outputs": [
    {
     "data": {
      "image/png": "[encoded data removed]",
      "text/plain": [
       "<Figure size 432x288 with 1 Axes>"
      ]
     },
     "metadata": {},
     "output_type": "display_data"
    }
   ],
   "source": [
    "# plt.figure(figsize=(50,50))\n",
    "labels = 'Non-English speaker', 'English speaker'\n",
    "fig1, ax1 = plt.subplots()\n",
    "ax1.pie(data['Teaching Assistant'].value_counts(), labels=labels,autopct='%0.02f%%',explode=[0,0.2])\n",
    "ax1.set_title('Teaching Assistant')\n",
    "plt.show()\n",
    "# data['Teaching Assistant'].value_counts().plot(kind='pie',autopct='%0.02f%%',explode=[0,0.2])\n",
    "# plt.show()"
   ]
  },
  {
   "cell_type": "markdown",
   "id": "0bc4cf72",
   "metadata": {},
   "source": [
    "#### Lets find out what courses we have in summer and regular semester"
   ]
  },
  {
   "cell_type": "code",
   "execution_count": 22,
   "id": "9f657bd0",
   "metadata": {},
   "outputs": [
    {
     "data": {
      "image/png": "[encoded data removed]",
      "text/plain": [
       "<Figure size 432x288 with 1 Axes>"
      ]
     },
     "metadata": {
      "needs_background": "light"
     },
     "output_type": "display_data"
    }
   ],
   "source": [
    "sns.scatterplot(data=data,x='Summer/Regular Semester',y='Course',hue='Summer/Regular Semester',palette=[\"C0\", \"C1\"])\n",
    "plt.show()"
   ]
  },
  {
   "cell_type": "markdown",
   "id": "a6819911",
   "metadata": {},
   "source": [
    "#### Score distribution over the semesters"
   ]
  },
  {
   "cell_type": "code",
   "execution_count": 23,
   "id": "ad3291c0",
   "metadata": {},
   "outputs": [
    {
     "data": {
      "image/png": "[encoded data removed]",
      "text/plain": [
       "<Figure size 360x360 with 1 Axes>"
      ]
     },
     "metadata": {
      "needs_background": "light"
     },
     "output_type": "display_data"
    }
   ],
   "source": [
    "plt.figure(figsize=(5,5))\n",
    "sns.countplot(data=data,x='Score',hue='Summer/Regular Semester')\n",
    "plt.legend(title='Semester Type',labels=['Summer', 'Regular'])\n",
    "plt.show()"
   ]
  },
  {
   "cell_type": "markdown",
   "id": "dab794bd",
   "metadata": {},
   "source": [
    "#### Lets create ML model by using multiclass classification algorithm"
   ]
  },
  {
   "cell_type": "code",
   "execution_count": 24,
   "id": "e73d836f",
   "metadata": {},
   "outputs": [],
   "source": [
    "df=data"
   ]
  },
  {
   "cell_type": "code",
   "execution_count": 25,
   "id": "7471973a",
   "metadata": {},
   "outputs": [
    {
     "data": {
      "text/html": [
       "<div>\n",
       "<style scoped>\n",
       "    .dataframe tbody tr th:only-of-type {\n",
       "        vertical-align: middle;\n",
       "    }\n",
       "\n",
       "    .dataframe tbody tr th {\n",
       "        vertical-align: top;\n",
       "    }\n",
       "\n",
       "    .dataframe thead th {\n",
       "        text-align: right;\n",
       "    }\n",
       "</style>\n",
       "<table border=\"1\" class=\"dataframe\">\n",
       "  <thead>\n",
       "    <tr style=\"text-align: right;\">\n",
       "      <th></th>\n",
       "      <th>Teaching Assistant</th>\n",
       "      <th>Course Instructor</th>\n",
       "      <th>Course</th>\n",
       "      <th>Summer/Regular Semester</th>\n",
       "      <th>Class Size</th>\n",
       "      <th>Score</th>\n",
       "    </tr>\n",
       "  </thead>\n",
       "  <tbody>\n",
       "    <tr>\n",
       "      <th>0</th>\n",
       "      <td>1</td>\n",
       "      <td>23</td>\n",
       "      <td>3</td>\n",
       "      <td>1</td>\n",
       "      <td>19</td>\n",
       "      <td>3</td>\n",
       "    </tr>\n",
       "    <tr>\n",
       "      <th>1</th>\n",
       "      <td>2</td>\n",
       "      <td>15</td>\n",
       "      <td>3</td>\n",
       "      <td>1</td>\n",
       "      <td>17</td>\n",
       "      <td>3</td>\n",
       "    </tr>\n",
       "    <tr>\n",
       "      <th>2</th>\n",
       "      <td>1</td>\n",
       "      <td>23</td>\n",
       "      <td>3</td>\n",
       "      <td>2</td>\n",
       "      <td>49</td>\n",
       "      <td>3</td>\n",
       "    </tr>\n",
       "    <tr>\n",
       "      <th>3</th>\n",
       "      <td>1</td>\n",
       "      <td>5</td>\n",
       "      <td>2</td>\n",
       "      <td>2</td>\n",
       "      <td>33</td>\n",
       "      <td>3</td>\n",
       "    </tr>\n",
       "    <tr>\n",
       "      <th>4</th>\n",
       "      <td>2</td>\n",
       "      <td>7</td>\n",
       "      <td>11</td>\n",
       "      <td>2</td>\n",
       "      <td>55</td>\n",
       "      <td>3</td>\n",
       "    </tr>\n",
       "    <tr>\n",
       "      <th>...</th>\n",
       "      <td>...</td>\n",
       "      <td>...</td>\n",
       "      <td>...</td>\n",
       "      <td>...</td>\n",
       "      <td>...</td>\n",
       "      <td>...</td>\n",
       "    </tr>\n",
       "    <tr>\n",
       "      <th>146</th>\n",
       "      <td>2</td>\n",
       "      <td>3</td>\n",
       "      <td>2</td>\n",
       "      <td>2</td>\n",
       "      <td>26</td>\n",
       "      <td>1</td>\n",
       "    </tr>\n",
       "    <tr>\n",
       "      <th>147</th>\n",
       "      <td>2</td>\n",
       "      <td>10</td>\n",
       "      <td>3</td>\n",
       "      <td>2</td>\n",
       "      <td>12</td>\n",
       "      <td>1</td>\n",
       "    </tr>\n",
       "    <tr>\n",
       "      <th>148</th>\n",
       "      <td>1</td>\n",
       "      <td>18</td>\n",
       "      <td>7</td>\n",
       "      <td>2</td>\n",
       "      <td>48</td>\n",
       "      <td>1</td>\n",
       "    </tr>\n",
       "    <tr>\n",
       "      <th>149</th>\n",
       "      <td>2</td>\n",
       "      <td>22</td>\n",
       "      <td>1</td>\n",
       "      <td>2</td>\n",
       "      <td>51</td>\n",
       "      <td>1</td>\n",
       "    </tr>\n",
       "    <tr>\n",
       "      <th>150</th>\n",
       "      <td>2</td>\n",
       "      <td>2</td>\n",
       "      <td>10</td>\n",
       "      <td>2</td>\n",
       "      <td>27</td>\n",
       "      <td>1</td>\n",
       "    </tr>\n",
       "  </tbody>\n",
       "</table>\n",
       "<p>151 rows × 6 columns</p>\n",
       "</div>"
      ],
      "text/plain": [
       "     Teaching Assistant  Course Instructor  Course  Summer/Regular Semester  \\\n",
       "0                     1                 23       3                        1   \n",
       "1                     2                 15       3                        1   \n",
       "2                     1                 23       3                        2   \n",
       "3                     1                  5       2                        2   \n",
       "4                     2                  7      11                        2   \n",
       "..                  ...                ...     ...                      ...   \n",
       "146                   2                  3       2                        2   \n",
       "147                   2                 10       3                        2   \n",
       "148                   1                 18       7                        2   \n",
       "149                   2                 22       1                        2   \n",
       "150                   2                  2      10                        2   \n",
       "\n",
       "     Class Size  Score  \n",
       "0            19      3  \n",
       "1            17      3  \n",
       "2            49      3  \n",
       "3            33      3  \n",
       "4            55      3  \n",
       "..          ...    ...  \n",
       "146          26      1  \n",
       "147          12      1  \n",
       "148          48      1  \n",
       "149          51      1  \n",
       "150          27      1  \n",
       "\n",
       "[151 rows x 6 columns]"
      ]
     },
     "execution_count": 25,
     "metadata": {},
     "output_type": "execute_result"
    }
   ],
   "source": [
    "df"
   ]
  },
  {
   "cell_type": "markdown",
   "id": "6ed51dfa",
   "metadata": {},
   "source": [
    "#### Split the data into features and target "
   ]
  },
  {
   "cell_type": "code",
   "execution_count": 26,
   "id": "28239710",
   "metadata": {},
   "outputs": [],
   "source": [
    "from sklearn.model_selection import train_test_split\n",
    "# Split the data into features and target\n",
    "X = df.drop('Score', axis=1).values\n",
    "# print(X)\n",
    "y = df['Score'].values\n",
    "# print(y)\n",
    "\n",
    "# Split the data into training and testing sets\n",
    "X_train, X_test, y_train, y_test = train_test_split(X, y, test_size=0.2, random_state=42)"
   ]
  },
  {
   "cell_type": "markdown",
   "id": "0fd1caf8",
   "metadata": {},
   "source": [
    "#### Create the random forest classifier\n",
    "Here's an explanation on why I chose the random forest algorithm over SVM and logistic regression for the given problem:\n",
    "\n",
    "Random forest is an ensemble learning method that combines multiple decision trees to improve prediction accuracy and reduce overfitting. In contrast, SVM and logistic regression are both linear models that make decisions based on a linear boundary."
   ]
  },
  {
   "cell_type": "code",
   "execution_count": 27,
   "id": "cec66798",
   "metadata": {},
   "outputs": [],
   "source": [
    "from sklearn.ensemble import RandomForestClassifier\n",
    "rfc = RandomForestClassifier(n_estimators=100, max_depth=11, random_state=42)"
   ]
  },
  {
   "cell_type": "markdown",
   "id": "3a7139b9",
   "metadata": {},
   "source": [
    "#### Train the model"
   ]
  },
  {
   "cell_type": "code",
   "execution_count": 28,
   "id": "55427217",
   "metadata": {},
   "outputs": [
    {
     "name": "stdout",
     "output_type": "stream",
     "text": [
      "[1 2 2 1 1 1 3 2 2 2 3 3 1 3 2 1 1 1 2 3 1 3 2 3 1 3 1 1 1 1 2]\n",
      "[1 2 3 3 1 1 3 2 2 3 3 3 1 3 2 2 1 1 2 2 1 3 2 2 3 1 1 1 2 1 2]\n"
     ]
    }
   ],
   "source": [
    "# Train the model\n",
    "rfc.fit(X_train, y_train)\n",
    "\n",
    "# Make predictions on the test set\n",
    "y_pred = rfc.predict(X_test)\n",
    "\n",
    "print(y_pred)\n",
    "print(y_test)"
   ]
  },
  {
   "cell_type": "markdown",
   "id": "01b45633",
   "metadata": {},
   "source": [
    "#### Evaluate Accuracy of model"
   ]
  },
  {
   "cell_type": "code",
   "execution_count": 29,
   "id": "efe83f92",
   "metadata": {},
   "outputs": [
    {
     "name": "stdout",
     "output_type": "stream",
     "text": [
      "Accuracy: 0.7096774193548387\n"
     ]
    }
   ],
   "source": [
    "from sklearn.metrics import accuracy_score\n",
    "\n",
    "accuracy = accuracy_score(y_test, y_pred)\n",
    "\n",
    "print(\"Accuracy: {}\".format(accuracy))"
   ]
  },
  {
   "cell_type": "markdown",
   "id": "08ba7919",
   "metadata": {},
   "source": [
    "#### Perform cross-validation to tune hyperparameters"
   ]
  },
  {
   "cell_type": "code",
   "execution_count": 30,
   "id": "019854cd",
   "metadata": {},
   "outputs": [
    {
     "name": "stdout",
     "output_type": "stream",
     "text": [
      "Cross-validation scores: [0.54545455 0.54545455 0.81818182 0.54545455 0.63636364 0.54545455\n",
      " 0.72727273 0.81818182 0.54545455 0.63636364 0.7       ]\n",
      "Average accuracy: 0.6421487603305785\n"
     ]
    }
   ],
   "source": [
    "from sklearn.model_selection import cross_val_score\n",
    "\n",
    "# Perform cross-validation to tune hyperparameters\n",
    "scores = cross_val_score(rfc, X_train, y_train, cv=11)\n",
    "\n",
    "# Print the cross-validation scores\n",
    "print(\"Cross-validation scores: {}\".format(scores))\n",
    "print(\"Average accuracy: {}\".format(scores.mean()))\n"
   ]
  },
  {
   "cell_type": "markdown",
   "id": "2f4e7714",
   "metadata": {},
   "source": [
    "#### Save the model"
   ]
  },
  {
   "cell_type": "code",
   "execution_count": 31,
   "id": "49263d95",
   "metadata": {},
   "outputs": [
    {
     "data": {
      "text/plain": [
       "['random_forest_model.pkl']"
      ]
     },
     "execution_count": 31,
     "metadata": {},
     "output_type": "execute_result"
    }
   ],
   "source": [
    "import joblib\n",
    "joblib.dump(rfc, 'random_forest_model.pkl')"
   ]
  },
  {
   "cell_type": "code",
   "execution_count": 32,
   "id": "2b1c7e41",
   "metadata": {},
   "outputs": [
    {
     "name": "stdout",
     "output_type": "stream",
     "text": [
      "Predicted score: 3\n"
     ]
    }
   ],
   "source": [
    "# Load the trained model\n",
    "# rfc = joblib.load('random_forest_model.pkl')\n",
    "\n",
    "# Define the input features\n",
    "input_features = [2,15,3,1,17] # Example input features\n",
    "\n",
    "# Create a dataframe with the input features\n",
    "input_df = pd.DataFrame([input_features])\n",
    "        \n",
    "\n",
    "# Use the trained model to predict the score\n",
    "predicted_score = rfc.predict(input_df)\n",
    "\n",
    "# Print the predicted score\n",
    "print(\"Predicted score: {}\".format(predicted_score[0]))"
   ]
  },
  {
   "cell_type": "markdown",
   "id": "13d2dbc6",
   "metadata": {},
   "source": [
    "#### Calculate precision, recall, and F1-score"
   ]
  },
  {
   "cell_type": "code",
   "execution_count": 33,
   "id": "902ea028",
   "metadata": {},
   "outputs": [
    {
     "name": "stdout",
     "output_type": "stream",
     "text": [
      "Precision: 0.7108934971838197\n",
      "Recall: 0.7096774193548387\n",
      "F1-score: 0.7030360531309298\n",
      "              precision    recall  f1-score   support\n",
      "\n",
      "           1       0.71      0.91      0.80        11\n",
      "           2       0.78      0.64      0.70        11\n",
      "           3       0.62      0.56      0.59         9\n",
      "\n",
      "    accuracy                           0.71        31\n",
      "   macro avg       0.71      0.70      0.70        31\n",
      "weighted avg       0.71      0.71      0.70        31\n",
      "\n"
     ]
    },
    {
     "data": {
      "text/plain": [
       "array([[10,  0,  1],\n",
       "       [ 2,  7,  2],\n",
       "       [ 2,  2,  5]], dtype=int64)"
      ]
     },
     "execution_count": 33,
     "metadata": {},
     "output_type": "execute_result"
    }
   ],
   "source": [
    "from sklearn.metrics import precision_score, recall_score, f1_score ,classification_report ,confusion_matrix\n",
    "\n",
    "# Calculate precision, recall, and F1-score\n",
    "precision = precision_score(y_test, y_pred, average='weighted')\n",
    "recall = recall_score(y_test, y_pred, average='weighted')\n",
    "f1 = f1_score(y_test, y_pred, average='weighted')\n",
    "\n",
    "print(\"Precision: {}\".format(precision))\n",
    "print(\"Recall: {}\".format(recall))\n",
    "print(\"F1-score: {}\".format(f1))\n",
    "\n",
    "# Calculate Classification Report\n",
    "print(classification_report(y_test,y_pred))\n",
    "\n",
    "#Confusion matrix\n",
    "confusion_matrix(y_test,y_pred)"
   ]
  },
  {
   "cell_type": "markdown",
   "id": "d15dbb5c",
   "metadata": {},
   "source": [
    "### Conclusion\n",
    "\n",
    "1. Successfully performed EDA using tools like pandas, numpy, and matplotlib by handling redundant data.\n",
    "2. Successfully Implemented multiclass classification algorithm such as Random Forests Regression.\n",
    "3. Successfully optimized hyperparameters using cross-validation.\n",
    "4. Successfully Evaluated the trained model on the testing set using metrics such as accuracy, precision,recall, and F1-score.\n",
    "5. Finally, the model is saved in the local drive for future evaluation by file name : ['random_forest_model.pkl']"
   ]
  },
  {
   "cell_type": "markdown",
   "id": "f07e6c30",
   "metadata": {},
   "source": [
    "### Thank You"
   ]
  }
 ],
 "metadata": {
  "kernelspec": {
   "display_name": "Python 3 (ipykernel)",
   "language": "python",
   "name": "python3"
  },
  "language_info": {
   "codemirror_mode": {
    "name": "ipython",
    "version": 3
   },
   "file_extension": ".py",
   "mimetype": "text/x-python",
   "name": "python",
   "nbconvert_exporter": "python",
   "pygments_lexer": "ipython3",
   "version": "3.9.12"
  }
 },
 "nbformat": 4,
 "nbformat_minor": 5
}
